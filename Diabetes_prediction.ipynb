{
 "cells": [
  {
   "cell_type": "code",
   "execution_count": 14,
   "id": "671f7006",
   "metadata": {},
   "outputs": [
    {
     "name": "stdout",
     "output_type": "stream",
     "text": [
      "Mean Squared Error is : 3035.060115291269\n",
      "weight : [941.43097333]\n",
      "intercept:  153.39713623331644\n"
     ]
    },
    {
     "data": {
      "image/png": "[encoded data removed]",
      "text/plain": [
       "<Figure size 432x288 with 1 Axes>"
      ]
     },
     "metadata": {
      "needs_background": "light"
     },
     "output_type": "display_data"
    }
   ],
   "source": [
    "import matplotlib.pyplot as plt  # importing matplotlib\n",
    "import numpy as np    # importing numpy           \n",
    "from sklearn import datasets, linear_model # importing sklearn packages\n",
    "from sklearn.metrics import mean_squared_error   # importing maatplotlib mean_squared_error(average of sum of square of predicited value and actual value )\n",
    "\n",
    "diabetes = datasets.load_diabetes() #load dataset\n",
    "\n",
    "diabetes_x = diabetes.data[:, np.newaxis, 2] #slicing features from datasets\n",
    "\n",
    "diabetes_x_train = diabetes_x[:-30] #splittting some data to train the model \n",
    "diabetes_x_test = diabetes_x[-30:]  #splitting some data to test the model\n",
    "\n",
    "diabetes_y_train  = diabetes.target[:-30] #splittting for label \n",
    "diabetes_y_test  = diabetes.target[-30:]\n",
    "\n",
    "model = linear_model.LinearRegression() #feed the linearmodel and imported Linear Regression\n",
    "\n",
    "model.fit(diabetes_x_train,diabetes_y_train) #fit the data(to get the line)\n",
    "\n",
    "diabetes_y_pridicted = model.predict(diabetes_x_test) #pridictng the value\n",
    "\n",
    "print(\"Mean Squared Error is :\",mean_squared_error(diabetes_y_test,diabetes_y_pridicted))\n",
    "print(\"weight :\",model.coef_)\n",
    "print(\"intercept: \",model.intercept_)\n",
    "\n",
    "plt.scatter(diabetes_x_test,diabetes_y_test) #scatter plot\n",
    "plt.plot(diabetes_x_test,diabetes_y_pridicted)\n",
    "plt.show()"
   ]
  },
  {
   "cell_type": "code",
   "execution_count": 15,
   "id": "a864773e",
   "metadata": {},
   "outputs": [
    {
     "name": "stdout",
     "output_type": "stream",
     "text": [
      "Mean Squared Error is : 1826.4841712795037\n",
      "weight : [  -1.16678648 -237.18123633  518.31283524  309.04204042 -763.10835067\n",
      "  458.88378916   80.61107395  174.31796962  721.48087773   79.1952801 ]\n",
      "intercept:  153.05824267739402\n"
     ]
    }
   ],
   "source": [
    "import matplotlib.pyplot as plt  # importing matplotlib\n",
    "import numpy as np    # importing numpy           \n",
    "from sklearn import datasets, linear_model # importing sklearn packages\n",
    "from sklearn.metrics import mean_squared_error   # importing maatplotlib mean_squared_error(average of sum of square of predicited value and actual value )\n",
    "\n",
    "diabetes = datasets.load_diabetes() #load dataset\n",
    "\n",
    "diabetes_x = diabetes.data \n",
    "\n",
    "diabetes_x_train = diabetes_x[:-30] #splittting some data to train the model \n",
    "diabetes_x_test = diabetes_x[-30:]  #splitting some data to test the model\n",
    "\n",
    "diabetes_y_train  = diabetes.target[:-30] #splittting for label \n",
    "diabetes_y_test  = diabetes.target[-30:]\n",
    "\n",
    "model = linear_model.LinearRegression() #feed the linearmodel and imported Linear Regression\n",
    "\n",
    "model.fit(diabetes_x_train,diabetes_y_train) #fit the data(to get the line)\n",
    "\n",
    "diabetes_y_pridicted = model.predict(diabetes_x_test) #pridictng the value\n",
    "\n",
    "print(\"Mean Squared Error is :\",mean_squared_error(diabetes_y_test,diabetes_y_pridicted))\n",
    "print(\"weight :\",model.coef_)\n",
    "print(\"intercept: \",model.intercept_)\n",
    "\n",
    "#plt.scatter(diabetes_x_test,diabetes_y_test) #scatter plot\n",
    "#plt.plot(diabetes_x_test,diabetes_y_pridicted)\n",
    "#plt.show()"
   ]
  },
  {
   "cell_type": "code",
   "execution_count": null,
   "id": "8a710a5f",
   "metadata": {},
   "outputs": [],
   "source": []
  }
 ],
 "metadata": {
  "kernelspec": {
   "display_name": "Python 3 (ipykernel)",
   "language": "python",
   "name": "python3"
  },
  "language_info": {
   "codemirror_mode": {
    "name": "ipython",
    "version": 3
   },
   "file_extension": ".py",
   "mimetype": "text/x-python",
   "name": "python",
   "nbconvert_exporter": "python",
   "pygments_lexer": "ipython3",
   "version": "3.8.10"
  }
 },
 "nbformat": 4,
 "nbformat_minor": 5
}
